{
 "cells": [
  {
   "cell_type": "markdown",
   "metadata": {},
   "source": [
    "# Quantum Workshop Examples \n",
    "\n",
    "First, we will begin by importing Qiskit, IBM's quantum computing software that is written in Python! To create an experiment and run it, we will need to use Qiskit's Circuits, Registers, and Compilers. To use this notebook, you must copy your API token from the \"My Account\" page on the IBM Q Experience."
   ]
  },
  {
   "cell_type": "code",
   "execution_count": 1,
   "metadata": {},
   "outputs": [
    {
     "name": "stdout",
     "output_type": "stream",
     "text": [
      "qiskit vers.= 0.10.0\n"
     ]
    }
   ],
   "source": [
    "import qiskit\n",
    "from qiskit import QuantumCircuit, ClassicalRegister, QuantumRegister, execute, Aer, IBMQ\n",
    "from qiskit.providers.ibmq import least_busy\n",
    "from qiskit.tools.monitor import job_monitor\n",
    "from qiskit.compiler import transpile\n",
    "from qiskit.tools.visualization import plot_histogram\n",
    "import matplotlib.pyplot as plt\n",
    "%matplotlib inline\n",
    "import numpy as np\n",
    "\n",
    "#paste your token from the IBM Q here\n",
    "token = \"PLACE YOUR TOKEN HERE\"\n",
    "try:\n",
    "    IBMQ.enable_account(token)\n",
    "except:\n",
    "    pass\n",
    "\n",
    "#settings and backends\n",
    "shots = 1024\n",
    "simulator = Aer.get_backend('qasm_simulator')\n",
    "state_vector_sim = Aer.get_backend('statevector_simulator')\n",
    "\n",
    "print('qiskit vers.= %s'%qiskit.__version__)"
   ]
  },
  {
   "cell_type": "markdown",
   "metadata": {},
   "source": [
    "## 1. Superposition\n",
    "\n",
    "First, we will demonstrate quantum superposition. This will be done using a one-qubit quantum machine that has a single gate: the Hadamard operation. Whenever the state vector for the wavefunction is examined, it is seen that the probability amplitudes for both $|0>$ and $|1>$ are equal to $\\frac{1}{\\sqrt{2}}$, indicating maximal superposition of the qubit. A measurement operation placed after the Hadamard gate allows for simulation of the circuit. This gate will 'observe' the quantum information and place it in the classical register. Once the circuit is complete with registers, a state transformation, and a measurement operation, experiments will be run using the Qiskit Aer simulator. Note how after each run, the output distribution varies slightly, but is close to a 50/50 split between the basis states $|0>$ and $|1>$ whenever the input quantum state is in a basis state."
   ]
  },
  {
   "cell_type": "code",
   "execution_count": 2,
   "metadata": {},
   "outputs": [
    {
     "name": "stdout",
     "output_type": "stream",
     "text": [
      "\n",
      "STATEVECTOR:  [0.70710678+0.j 0.70710678+0.j]\n",
      "\n",
      "QUANTUM CIRCUIT DIAGRAM:\n",
      "            ┌───┐┌─┐\n",
      "q_reg_0: |0>┤ H ├┤M├\n",
      "            └───┘└╥┘\n",
      " c_reg_0: 0 ══════╩═\n",
      "                    \n",
      "\n",
      "QASM SPECIFICATION:\n",
      "OPENQASM 2.0;\n",
      "include \"qelib1.inc\";\n",
      "qreg q_reg[1];\n",
      "creg c_reg[1];\n",
      "h q_reg[0];\n",
      "measure q_reg[0] -> c_reg[0];\n",
      "\n",
      "SIMULATION RESULTS:\n",
      "Simulation distribution 0: {'0': 515, '1': 509}\n",
      "Simulation distribution 1: {'0': 510, '1': 514}\n",
      "Simulation distribution 2: {'0': 531, '1': 493}\n"
     ]
    }
   ],
   "source": [
    "qr = QuantumRegister(1, 'q_reg')\n",
    "cr = ClassicalRegister(1, 'c_reg')\n",
    "qc = QuantumCircuit(qr, cr)\n",
    "qc.h(qr[0])\n",
    "\n",
    "#Must find state vector for wavefunction before you add measurement operators!\n",
    "#(Measurement operators cause wavefunction collapse)\n",
    "state_vector = execute(qc,state_vector_sim).result()\n",
    "vector = state_vector.get_statevector(qc)\n",
    "print('\\nSTATEVECTOR: ', vector)\n",
    "\n",
    "qc.measure(qr, cr)\n",
    "\n",
    "print('\\nQUANTUM CIRCUIT DIAGRAM:')\n",
    "print(qc.draw())\n",
    "print('\\nQASM SPECIFICATION:')\n",
    "for i in qc.qasm():\n",
    "    print(i,end='')\n",
    "       \n",
    "\n",
    "print('\\nSIMULATION RESULTS:')\n",
    "for i in range(0,3):\n",
    "    job = execute(qc,simulator,shots=shots)\n",
    "    result = job.result()\n",
    "    counts = result.get_counts(qc)\n",
    "    print('Simulation distribution %d:'%i, counts)\n",
    "    "
   ]
  },
  {
   "cell_type": "markdown",
   "metadata": {},
   "source": [
    "## 2. Entanglement\n",
    "Next, we will experiment with quantum entanglement. The circuit studied will be the Bell State Generator that consists of a Hadamard gate and a CNOT gate."
   ]
  },
  {
   "cell_type": "code",
   "execution_count": 3,
   "metadata": {},
   "outputs": [
    {
     "name": "stdout",
     "output_type": "stream",
     "text": [
      "\n",
      "STATEVECTOR:  [0.70710678+0.j 0.        +0.j 0.        +0.j 0.70710678+0.j]\n",
      "\n",
      "QUANTUM CIRCUIT DIAGRAM:\n",
      "            ┌───┐     ┌─┐   \n",
      "q_reg_0: |0>┤ H ├──■──┤M├───\n",
      "            └───┘┌─┴─┐└╥┘┌─┐\n",
      "q_reg_1: |0>─────┤ X ├─╫─┤M├\n",
      "                 └───┘ ║ └╥┘\n",
      " c_reg_0: 0 ═══════════╩══╬═\n",
      "                          ║ \n",
      " c_reg_1: 0 ══════════════╩═\n",
      "                            \n",
      "\n",
      "QASM SPECIFICATION:\n",
      "OPENQASM 2.0;\n",
      "include \"qelib1.inc\";\n",
      "qreg q_reg[2];\n",
      "creg c_reg[2];\n",
      "h q_reg[0];\n",
      "cx q_reg[0],q_reg[1];\n",
      "measure q_reg[0] -> c_reg[0];\n",
      "measure q_reg[1] -> c_reg[1];\n"
     ]
    }
   ],
   "source": [
    "qr2 = QuantumRegister(2, 'q_reg')\n",
    "cr2 = ClassicalRegister(2, 'c_reg')\n",
    "qc2 = QuantumCircuit(qr2, cr2)\n",
    "qc2.h(qr2[0])\n",
    "qc2.cx(qr2[0],qr2[1])\n",
    "\n",
    "state_vector2 = execute(qc2,state_vector_sim).result()\n",
    "vector2 = state_vector2.get_statevector(qc2)\n",
    "print('\\nSTATEVECTOR: ', vector2)\n",
    "\n",
    "qc2.measure(qr2, cr2)\n",
    "\n",
    "print('\\nQUANTUM CIRCUIT DIAGRAM:')\n",
    "print(qc2.draw())\n",
    "print('\\nQASM SPECIFICATION:')\n",
    "for i in qc2.qasm():\n",
    "    print(i,end='')"
   ]
  },
  {
   "cell_type": "markdown",
   "metadata": {},
   "source": [
    "Take note how quantum registers are initialized to $|0>$. Therefore, the input to the Bell State Generator is $|00>$. When we simulate the Bell State Generator, we will get an output quantum state that is entangled. This particular output state is the Bell State $|\\Phi^+>$."
   ]
  },
  {
   "cell_type": "code",
   "execution_count": 4,
   "metadata": {},
   "outputs": [
    {
     "name": "stdout",
     "output_type": "stream",
     "text": [
      "\n",
      "SIMULATION RESULTS:\n",
      "Simulation distribution 0: {'11': 531, '00': 493}\n",
      "Statevector 0: [0.+0.j 0.+0.j 0.+0.j 1.+0.j]\n",
      "Simulation distribution 1: {'11': 512, '00': 512}\n",
      "Statevector 1: [0.+0.j 0.+0.j 0.+0.j 1.+0.j]\n",
      "Simulation distribution 2: {'11': 499, '00': 525}\n",
      "Statevector 2: [1.+0.j 0.+0.j 0.+0.j 0.+0.j]\n"
     ]
    }
   ],
   "source": [
    "print('\\nSIMULATION RESULTS:')\n",
    "for i in range(0,3):\n",
    "    job2 = execute(qc2,simulator,shots=shots)\n",
    "    result2 = job2.result()\n",
    "    counts2 = result2.get_counts(qc2)\n",
    "    print('Simulation distribution %d:'%i, counts2)\n",
    "    state_vector2 = execute(qc2,state_vector_sim).result()\n",
    "    vector2 = state_vector2.get_statevector(qc2)\n",
    "    print('Statevector %d:'%i, vector2)\n"
   ]
  },
  {
   "cell_type": "markdown",
   "metadata": {},
   "source": [
    "The rest of the Bell states, $|\\Phi^->$, $|\\Psi^+>$, $|\\Psi^->$, can be generated whenever you change the input state sent into the generator. Input state can be changed by inserting Pauli-X gates on the qubit lines."
   ]
  },
  {
   "cell_type": "code",
   "execution_count": 5,
   "metadata": {},
   "outputs": [
    {
     "name": "stdout",
     "output_type": "stream",
     "text": [
      "\n",
      "STATEVECTOR:  [0.        +0.j 0.70710678+0.j 0.70710678+0.j 0.        +0.j]\n",
      "\n",
      "QUANTUM CIRCUIT DIAGRAM:\n",
      "            ┌───┐     ┌─┐   \n",
      "q_reg_0: |0>┤ H ├──■──┤M├───\n",
      "            ├───┤┌─┴─┐└╥┘┌─┐\n",
      "q_reg_1: |0>┤ X ├┤ X ├─╫─┤M├\n",
      "            └───┘└───┘ ║ └╥┘\n",
      " c_reg_0: 0 ═══════════╩══╬═\n",
      "                          ║ \n",
      " c_reg_1: 0 ══════════════╩═\n",
      "                            \n",
      "\n",
      "SIMULATION RESULTS:\n",
      "Simulation distribution: {'10': 498, '01': 526}\n"
     ]
    }
   ],
   "source": [
    "qr2 = QuantumRegister(2, 'q_reg')\n",
    "cr2 = ClassicalRegister(2, 'c_reg')\n",
    "qc2 = QuantumCircuit(qr2, cr2)\n",
    "qc2.x(qr2[1])\n",
    "qc2.h(qr2[0])\n",
    "qc2.cx(qr2[0],qr2[1])\n",
    "\n",
    "state_vector2 = execute(qc2,state_vector_sim).result()\n",
    "vector2 = state_vector2.get_statevector(qc2)\n",
    "print('\\nSTATEVECTOR: ', vector2)\n",
    "\n",
    "qc2.measure(qr2, cr2)\n",
    "\n",
    "print('\\nQUANTUM CIRCUIT DIAGRAM:')\n",
    "print(qc2.draw())\n",
    "\n",
    "print('\\nSIMULATION RESULTS:')\n",
    "job2 = execute(qc2,simulator,shots=shots)\n",
    "result2 = job2.result()\n",
    "counts2 = result2.get_counts(qc2)\n",
    "print('Simulation distribution:', counts2)"
   ]
  },
  {
   "cell_type": "code",
   "execution_count": 6,
   "metadata": {},
   "outputs": [
    {
     "name": "stdout",
     "output_type": "stream",
     "text": [
      "\n",
      "STATEVECTOR:  [ 0.70710678+0.j  0.        +0.j  0.        +0.j -0.70710678+0.j]\n",
      "\n",
      "QUANTUM CIRCUIT DIAGRAM:\n",
      "            ┌───┐┌───┐     ┌─┐   \n",
      "q_reg_0: |0>┤ X ├┤ H ├──■──┤M├───\n",
      "            └───┘└───┘┌─┴─┐└╥┘┌─┐\n",
      "q_reg_1: |0>──────────┤ X ├─╫─┤M├\n",
      "                      └───┘ ║ └╥┘\n",
      " c_reg_0: 0 ════════════════╩══╬═\n",
      "                               ║ \n",
      " c_reg_1: 0 ═══════════════════╩═\n",
      "                                 \n",
      "\n",
      "SIMULATION RESULTS:\n",
      "Simulation distribution: {'11': 507, '00': 517}\n"
     ]
    }
   ],
   "source": [
    "qr2 = QuantumRegister(2, 'q_reg')\n",
    "cr2 = ClassicalRegister(2, 'c_reg')\n",
    "qc2 = QuantumCircuit(qr2, cr2)\n",
    "qc2.x(qr2[0])\n",
    "qc2.h(qr2[0])\n",
    "qc2.cx(qr2[0],qr2[1])\n",
    "\n",
    "state_vector2 = execute(qc2,state_vector_sim).result()\n",
    "vector2 = state_vector2.get_statevector(qc2)\n",
    "print('\\nSTATEVECTOR: ', vector2)\n",
    "\n",
    "qc2.measure(qr2, cr2)\n",
    "\n",
    "print('\\nQUANTUM CIRCUIT DIAGRAM:')\n",
    "print(qc2.draw())\n",
    "\n",
    "print('\\nSIMULATION RESULTS:')\n",
    "job2 = execute(qc2,simulator,shots=shots)\n",
    "result2 = job2.result()\n",
    "counts2 = result2.get_counts(qc2)\n",
    "print('Simulation distribution:', counts2)"
   ]
  },
  {
   "cell_type": "code",
   "execution_count": 7,
   "metadata": {},
   "outputs": [
    {
     "name": "stdout",
     "output_type": "stream",
     "text": [
      "\n",
      "STATEVECTOR:  [ 0.        +0.j -0.70710678+0.j  0.70710678+0.j  0.        +0.j]\n",
      "\n",
      "QUANTUM CIRCUIT DIAGRAM:\n",
      "            ┌───┐┌───┐     ┌─┐   \n",
      "q_reg_0: |0>┤ X ├┤ H ├──■──┤M├───\n",
      "            ├───┤└───┘┌─┴─┐└╥┘┌─┐\n",
      "q_reg_1: |0>┤ X ├─────┤ X ├─╫─┤M├\n",
      "            └───┘     └───┘ ║ └╥┘\n",
      " c_reg_0: 0 ════════════════╩══╬═\n",
      "                               ║ \n",
      " c_reg_1: 0 ═══════════════════╩═\n",
      "                                 \n",
      "\n",
      "SIMULATION RESULTS:\n",
      "Simulation distribution: {'10': 498, '01': 526}\n"
     ]
    }
   ],
   "source": [
    "qr2 = QuantumRegister(2, 'q_reg')\n",
    "cr2 = ClassicalRegister(2, 'c_reg')\n",
    "qc2 = QuantumCircuit(qr2, cr2)\n",
    "qc2.x(qr2[0])\n",
    "qc2.x(qr2[1])\n",
    "qc2.h(qr2[0])\n",
    "qc2.cx(qr2[0],qr2[1])\n",
    "\n",
    "state_vector2 = execute(qc2,state_vector_sim).result()\n",
    "vector2 = state_vector2.get_statevector(qc2)\n",
    "print('\\nSTATEVECTOR: ', vector2)\n",
    "\n",
    "qc2.measure(qr2, cr2)\n",
    "\n",
    "print('\\nQUANTUM CIRCUIT DIAGRAM:')\n",
    "print(qc2.draw())\n",
    "\n",
    "print('\\nSIMULATION RESULTS:')\n",
    "job2 = execute(qc2,simulator,shots=shots)\n",
    "result2 = job2.result()\n",
    "counts2 = result2.get_counts(qc2)\n",
    "print('Simulation distribution:', counts2)"
   ]
  },
  {
   "cell_type": "markdown",
   "metadata": {},
   "source": [
    "## 3. Algorithm Compilation\n",
    "\n",
    "Whenever you want to run a quantum algorithm on a real quantum machine, gate libraries and device topology must be taken into consideration. In the exercise below, a Bell State oscillator circuit, or a cascade of four Bell State geneators, will be created with Hadamard and CNOT gates. This circuit will then be mapped to the 14 qubit Melborne Machine."
   ]
  },
  {
   "cell_type": "code",
   "execution_count": 8,
   "metadata": {},
   "outputs": [
    {
     "name": "stdout",
     "output_type": "stream",
     "text": [
      "\n",
      "STATEVECTOR:  [0.+0.j 0.+0.j 1.+0.j 0.+0.j]\n",
      "\n",
      "QUANTUM CIRCUIT DIAGRAM BEFORE COMPILE:\n",
      "            ┌───┐     ┌───┐     ┌───┐     ┌───┐     ┌─┐   \n",
      "q_reg_0: |0>┤ H ├──■──┤ H ├──■──┤ H ├──■──┤ H ├──■──┤M├───\n",
      "            └───┘┌─┴─┐└───┘┌─┴─┐└───┘┌─┴─┐└───┘┌─┴─┐└╥┘┌─┐\n",
      "q_reg_1: |0>─────┤ X ├─────┤ X ├─────┤ X ├─────┤ X ├─╫─┤M├\n",
      "                 └───┘     └───┘     └───┘     └───┘ ║ └╥┘\n",
      " c_reg_0: 0 ═════════════════════════════════════════╩══╬═\n",
      "                                                        ║ \n",
      " c_reg_1: 0 ════════════════════════════════════════════╩═\n",
      "                                                          \n",
      "\n",
      "QASM SPECIFICATION BEFORE COMPILE:\n",
      "OPENQASM 2.0;\n",
      "include \"qelib1.inc\";\n",
      "qreg q_reg[2];\n",
      "creg c_reg[2];\n",
      "h q_reg[0];\n",
      "cx q_reg[0],q_reg[1];\n",
      "h q_reg[0];\n",
      "cx q_reg[0],q_reg[1];\n",
      "h q_reg[0];\n",
      "cx q_reg[0],q_reg[1];\n",
      "h q_reg[0];\n",
      "cx q_reg[0],q_reg[1];\n",
      "measure q_reg[0] -> c_reg[0];\n",
      "measure q_reg[1] -> c_reg[1];\n"
     ]
    }
   ],
   "source": [
    "qr3 = QuantumRegister(2, 'q_reg')\n",
    "cr3 = ClassicalRegister(2, 'c_reg')\n",
    "qc3 = QuantumCircuit(qr3, cr3)\n",
    "qc3.h(qr3[0])\n",
    "qc3.cx(qr3[0],qr3[1])\n",
    "qc3.h(qr3[0])\n",
    "qc3.cx(qr3[0],qr3[1])\n",
    "qc3.h(qr3[0])\n",
    "qc3.cx(qr3[0],qr3[1])\n",
    "qc3.h(qr3[0])\n",
    "qc3.cx(qr3[0],qr3[1])\n",
    "\n",
    "state_vector3 = execute(qc3,state_vector_sim).result()\n",
    "vector3 = state_vector3.get_statevector(qc3)\n",
    "print('\\nSTATEVECTOR: ', vector3)\n",
    "\n",
    "qc3.measure(qr3, cr3)\n",
    "\n",
    "print('\\nQUANTUM CIRCUIT DIAGRAM BEFORE COMPILE:')\n",
    "print(qc3.draw())\n",
    "\n",
    "print('\\nQASM SPECIFICATION BEFORE COMPILE:')\n",
    "for i in qc3.qasm():\n",
    "    print(i,end='')\n",
    "\n"
   ]
  },
  {
   "cell_type": "code",
   "execution_count": 9,
   "metadata": {},
   "outputs": [
    {
     "name": "stdout",
     "output_type": "stream",
     "text": [
      "\n",
      "QC MELBOURNE PROPERTIES: ['u1', 'u2', 'u3', 'cx', 'id']\n",
      "\n",
      "QC MELBOURNE COUPLING MAP: [[1, 0], [1, 2], [2, 3], [4, 3], [4, 10], [5, 4], [5, 6], [5, 9], [6, 8], [7, 8], [9, 8], [9, 10], [11, 3], [11, 10], [11, 12], [12, 2], [13, 1], [13, 12]]\n"
     ]
    }
   ],
   "source": [
    "provider = IBMQ.get_provider(group='open')\n",
    "device = provider.get_backend('ibmq_16_melbourne')\n",
    "basis_gates = device.configuration().basis_gates\n",
    "coupling_map = device.configuration().coupling_map\n",
    "\n",
    "print('\\nQC MELBOURNE PROPERTIES:', basis_gates)\n",
    "print('\\nQC MELBOURNE COUPLING MAP:', coupling_map)\n",
    "\n",
    "#device.properties() #returns lots of useful things"
   ]
  },
  {
   "cell_type": "code",
   "execution_count": 10,
   "metadata": {},
   "outputs": [
    {
     "name": "stdout",
     "output_type": "stream",
     "text": [
      "\n",
      "QUANTUM CIRCUIT DIAGRAM AFTER COMPILE:\n",
      "                              ┌───┐┌──────────┐┌───┐┌──────────┐┌───┐»\n",
      "    (q_reg0) q0|0>────────────┤ X ├┤ U2(0,pi) ├┤ X ├┤ U2(0,pi) ├┤ X ├»\n",
      "                  ┌──────────┐└─┬─┘└──────────┘└─┬─┘└──────────┘└─┬─┘»\n",
      "    (q_reg1) q1|0>┤ U2(0,pi) ├──■────────────────■────────────────■──»\n",
      "                  └──────────┘                                       »\n",
      "  (ancilla0) q2|0>───────────────────────────────────────────────────»\n",
      "                                                                     »\n",
      "  (ancilla1) q3|0>───────────────────────────────────────────────────»\n",
      "                                                                     »\n",
      "  (ancilla2) q4|0>───────────────────────────────────────────────────»\n",
      "                                                                     »\n",
      "  (ancilla3) q5|0>───────────────────────────────────────────────────»\n",
      "                                                                     »\n",
      "  (ancilla4) q6|0>───────────────────────────────────────────────────»\n",
      "                                                                     »\n",
      "  (ancilla5) q7|0>───────────────────────────────────────────────────»\n",
      "                                                                     »\n",
      "  (ancilla6) q8|0>───────────────────────────────────────────────────»\n",
      "                                                                     »\n",
      "  (ancilla7) q9|0>───────────────────────────────────────────────────»\n",
      "                                                                     »\n",
      " (ancilla8) q10|0>───────────────────────────────────────────────────»\n",
      "                                                                     »\n",
      " (ancilla9) q11|0>───────────────────────────────────────────────────»\n",
      "                                                                     »\n",
      "(ancilla10) q12|0>───────────────────────────────────────────────────»\n",
      "                                                                     »\n",
      "(ancilla11) q13|0>───────────────────────────────────────────────────»\n",
      "                                                                     »\n",
      "       c_reg_0: 0 ═══════════════════════════════════════════════════»\n",
      "                                                                     »\n",
      "       c_reg_1: 0 ═══════════════════════════════════════════════════»\n",
      "                                                                     »\n",
      "«               ┌──────────┐┌───┐┌──────────┐┌─┐   \n",
      "«    (q_reg0) q0┤ U2(0,pi) ├┤ X ├┤ U2(0,pi) ├┤M├───\n",
      "«               └──────────┘└─┬─┘├──────────┤└╥┘┌─┐\n",
      "«    (q_reg1) q1──────────────■──┤ U2(0,pi) ├─╫─┤M├\n",
      "«                                └──────────┘ ║ └╥┘\n",
      "«  (ancilla0) q2──────────────────────────────╫──╫─\n",
      "«                                             ║  ║ \n",
      "«  (ancilla1) q3──────────────────────────────╫──╫─\n",
      "«                                             ║  ║ \n",
      "«  (ancilla2) q4──────────────────────────────╫──╫─\n",
      "«                                             ║  ║ \n",
      "«  (ancilla3) q5──────────────────────────────╫──╫─\n",
      "«                                             ║  ║ \n",
      "«  (ancilla4) q6──────────────────────────────╫──╫─\n",
      "«                                             ║  ║ \n",
      "«  (ancilla5) q7──────────────────────────────╫──╫─\n",
      "«                                             ║  ║ \n",
      "«  (ancilla6) q8──────────────────────────────╫──╫─\n",
      "«                                             ║  ║ \n",
      "«  (ancilla7) q9──────────────────────────────╫──╫─\n",
      "«                                             ║  ║ \n",
      "« (ancilla8) q10──────────────────────────────╫──╫─\n",
      "«                                             ║  ║ \n",
      "« (ancilla9) q11──────────────────────────────╫──╫─\n",
      "«                                             ║  ║ \n",
      "«(ancilla10) q12──────────────────────────────╫──╫─\n",
      "«                                             ║  ║ \n",
      "«(ancilla11) q13──────────────────────────────╫──╫─\n",
      "«                                             ║  ║ \n",
      "«      c_reg_0: ══════════════════════════════╩══╬═\n",
      "«                                                ║ \n",
      "«      c_reg_1: ═════════════════════════════════╩═\n",
      "«                                                  \n",
      "\n",
      "QASM SPECIFICATION AFTER COMPILE:\n",
      "OPENQASM 2.0;\n",
      "include \"qelib1.inc\";\n",
      "qreg q[14];\n",
      "creg c_reg[2];\n",
      "u2(0.0,3.14159265358979) q[1];\n",
      "cx q[1],q[0];\n",
      "u2(0.0,3.14159265358979) q[0];\n",
      "cx q[1],q[0];\n",
      "u2(0.0,3.14159265358979) q[0];\n",
      "cx q[1],q[0];\n",
      "u2(0.0,3.14159265358979) q[0];\n",
      "cx q[1],q[0];\n",
      "u2(0.0,3.14159265358979) q[0];\n",
      "u2(0.0,3.14159265358979) q[1];\n",
      "measure q[0] -> c_reg[0];\n",
      "measure q[1] -> c_reg[1];\n",
      "\n",
      "SIMULATION RESULTS:\n",
      "Simulation distribution: {'10': 1024}\n",
      "\n"
     ]
    }
   ],
   "source": [
    "executable = transpile(circuits=qc3, basis_gates=['u1','u2','u3','cx'],seed_transpiler=1,coupling_map=coupling_map)\n",
    "job3 = execute(executable,simulator,shots=shots)\n",
    "\n",
    "print('\\nQUANTUM CIRCUIT DIAGRAM AFTER COMPILE:')\n",
    "print(executable.draw())\n",
    "\n",
    "print('\\nQASM SPECIFICATION AFTER COMPILE:')\n",
    "for i in executable.qasm():\n",
    "    print(i,end='')\n",
    "    \n",
    "print('\\nSIMULATION RESULTS:')\n",
    "result3 = job3.result()\n",
    "counts3 = result3.get_counts(qc3)\n",
    "print('Simulation distribution:', counts3)\n",
    "print()"
   ]
  },
  {
   "cell_type": "markdown",
   "metadata": {},
   "source": [
    "## 4. Implementation of Deutsch's Algorithm\n",
    "\n",
    "A function, $f(x)$, can be constant or balanced. When the function is balanced, $f(x) = 0$ for half of the values of $x$ and $f(x) = 1$ for the other half. In classical computing, $\\frac{2^n}{2} + 1$ trials are required to determine if a function is constant or balanced. Deutsch's Algorithm implemented with a quantum computer, however, allows you to determine if a function is constant or balanced with a single trial. The result of the algorithm will be a measurement of $0$ if the function is constant or $1$ if the function is balanced. In the example below, Deutsch's algorithm will be implemented with the function for $n=1$, $f(x) = x_1$. This is a balanced function, and evaluation of Deutsch algorithm equal to 1 will confirm that. This experiment will be run on both the simulator as well as on one of the IBM Q machines.\n"
   ]
  },
  {
   "cell_type": "code",
   "execution_count": 11,
   "metadata": {},
   "outputs": [
    {
     "name": "stdout",
     "output_type": "stream",
     "text": [
      "\n",
      "ALGORITHM CIRCUIT DIAGRAM:\n",
      "               ░ ┌───┐ ░       ░ ┌───┐┌─┐\n",
      "q4_0: |0>──────░─┤ H ├─░───■───░─┤ H ├┤M├\n",
      "         ┌───┐ ░ ├───┤ ░ ┌─┴─┐ ░ ├───┤└╥┘\n",
      "q4_1: |0>┤ X ├─░─┤ H ├─░─┤ X ├─░─┤ H ├─╫─\n",
      "         └───┘ ░ └───┘ ░ └───┘ ░ └───┘ ║ \n",
      " c0_0: 0 ══════════════════════════════╩═\n",
      "                                         \n",
      " c0_1: 0 ════════════════════════════════\n",
      "                                         \n"
     ]
    }
   ],
   "source": [
    "# Creating registers\n",
    "qr = QuantumRegister(2)\n",
    "# classical registers for recording the measurement on qr\n",
    "cr = ClassicalRegister(2)\n",
    "\n",
    "qc = QuantumCircuit(qr, cr)\n",
    "barriers = True\n",
    "\n",
    "# initialize the ancilla qubit in the |1> state\n",
    "qc.x(qr[1])\n",
    "\n",
    "# Apply barrier \n",
    "if barriers:\n",
    "    qc.barrier()\n",
    "\n",
    "# Apply Hadamard gates before querying the oracle\n",
    "qc.h(qr[0])    \n",
    "qc.h(qr[1])    \n",
    "\n",
    "# Apply barrier \n",
    "if barriers:\n",
    "    qc.barrier()\n",
    "\n",
    "# Query the oracle \n",
    "qc.cx(qr[0], qr[1])\n",
    "\n",
    "# Apply barrier \n",
    "if barriers:\n",
    "    qc.barrier()\n",
    "\n",
    "# Apply Hadamard gates after querying the oracle\n",
    "qc.h(qr[0])    \n",
    "qc.h(qr[1])    \n",
    "\n",
    "# Measure the input qubit\n",
    "qc.measure(qr[0], cr[0])\n",
    "\n",
    "# Draw the Deutsch Algorithm Implementation\n",
    "print('\\nALGORITHM CIRCUIT DIAGRAM:')\n",
    "print(qc.draw())"
   ]
  },
  {
   "cell_type": "code",
   "execution_count": 12,
   "metadata": {},
   "outputs": [
    {
     "name": "stdout",
     "output_type": "stream",
     "text": [
      "c0 = 1 (1024 shots)\n"
     ]
    },
    {
     "data": {
      "image/png": "[encoded data removed]",
      "text/plain": [
       "<Figure size 504x360 with 1 Axes>"
      ]
     },
     "execution_count": 12,
     "metadata": {},
     "output_type": "execute_result"
    }
   ],
   "source": [
    "# use local simulator\n",
    "results = execute(qc, backend=simulator, shots=shots).result()\n",
    "answer = results.get_counts()\n",
    "\n",
    "# categorize answers to c0 = 0 and c0 = 1\n",
    "answer_c0 = {}\n",
    "for c1c0 in answer:\n",
    "    print('c0 = {} ({} shots)'.format(c1c0[1], answer[c1c0]))\n",
    "\n",
    "    if c1c0[1] in answer_c0:\n",
    "        answer_c0[c1c0[1]] += answer[c1c0]\n",
    "    else:\n",
    "        answer_c0[c1c0[1]] = answer[c1c0]\n",
    "\n",
    "plot_histogram(answer_c0)"
   ]
  },
  {
   "cell_type": "code",
   "execution_count": 13,
   "metadata": {},
   "outputs": [
    {
     "name": "stderr",
     "output_type": "stream",
     "text": [
      "//anaconda3/envs/quantum_env/lib/python3.7/site-packages/qiskit/providers/ibmq/ibmqfactory.py:548: DeprecationWarning: IBMQ.backends() is being deprecated. Please use IBMQ.get_provider() to retrieve a provider and AccountProvider.backends() to find its backends.\n",
      "  DeprecationWarning)\n",
      "//anaconda3/envs/quantum_env/lib/python3.7/site-packages/qiskit/providers/ibmq/ibmqfactory.py:548: DeprecationWarning: IBMQ.backends() is being deprecated. Please use IBMQ.get_provider() to retrieve a provider and AccountProvider.backends() to find its backends.\n",
      "  DeprecationWarning)\n"
     ]
    },
    {
     "name": "stdout",
     "output_type": "stream",
     "text": [
      "Least busy backend:  ibmq_london\n"
     ]
    }
   ],
   "source": [
    "# Check status of machines and use least busy for experiment\n",
    "IBMQ.backends()\n",
    "\n",
    "backend_lb = least_busy(IBMQ.backends(simulator=False))\n",
    "print(\"Least busy backend: \", backend_lb)"
   ]
  },
  {
   "cell_type": "code",
   "execution_count": 14,
   "metadata": {},
   "outputs": [
    {
     "name": "stdout",
     "output_type": "stream",
     "text": [
      "Job Status: job has successfully run\n"
     ]
    }
   ],
   "source": [
    "job_exp = execute(qc, backend=backend_lb, shots=shots)\n",
    "job_monitor(job_exp, interval = 2)"
   ]
  },
  {
   "cell_type": "code",
   "execution_count": 15,
   "metadata": {},
   "outputs": [
    {
     "name": "stdout",
     "output_type": "stream",
     "text": [
      "c0 = 0 (55 shots)\n",
      "c0 = 1 (969 shots)\n",
      "{'0': 55, '1': 969}\n"
     ]
    },
    {
     "data": {
      "image/png": "[encoded data removed]",
      "text/plain": [
       "<Figure size 504x360 with 1 Axes>"
      ]
     },
     "execution_count": 15,
     "metadata": {},
     "output_type": "execute_result"
    }
   ],
   "source": [
    "results = job_exp.result()\n",
    "answer = results.get_counts(qc)\n",
    "\n",
    "# categorize answers to c0 = 0 and c0 = 1\n",
    "answer_c0 = {}\n",
    "for c1c0 in answer:\n",
    "    print('c0 = {} ({} shots)'.format(c1c0[1], answer[c1c0]))\n",
    "    if c1c0[1] in answer_c0:\n",
    "        answer_c0[c1c0[1]] += answer[c1c0]\n",
    "    else:\n",
    "        answer_c0[c1c0[1]] = answer[c1c0]\n",
    "\n",
    "# show answers\n",
    "print(answer_c0)\n",
    "plot_histogram(answer_c0)"
   ]
  },
  {
   "cell_type": "code",
   "execution_count": null,
   "metadata": {},
   "outputs": [],
   "source": []
  }
 ],
 "metadata": {
  "kernelspec": {
   "display_name": "Python (quantum_env)",
   "language": "python",
   "name": "myenv"
  },
  "language_info": {
   "codemirror_mode": {
    "name": "ipython",
    "version": 3
   },
   "file_extension": ".py",
   "mimetype": "text/x-python",
   "name": "python",
   "nbconvert_exporter": "python",
   "pygments_lexer": "ipython3",
   "version": "3.7.3"
  }
 },
 "nbformat": 4,
 "nbformat_minor": 2
}
